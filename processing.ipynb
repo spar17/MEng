{
 "cells": [
  {
   "cell_type": "markdown",
   "metadata": {},
   "source": [
    "# Carnatic Music Processing"
   ]
  },
  {
   "cell_type": "markdown",
   "metadata": {},
   "source": [
    "## Outline / Steps\n",
    "\n",
    "* Import data\n",
    "  * Carnatic Varnam dataset audio recordings\n",
    "* Preprocessing - visualize audio\n",
    "  * Function 1: Get spectrogram\n",
    "  * Function 2: Get fundamental pitch contour\n",
    "  * Function 3: Separation of drone / vocal?\n",
    "  * Function 4: Annotate percussive onsets\n",
    "* Feature Calculations\n",
    "  * Function 5: Plot pitch contour derivative + mark saddle points\n",
    "  * Function 6: Overall Pitch Statistics (histogram + probability density function)\n",
    "* Sandbox\n",
    "\n",
    "* Framework\n",
    "- parameter + results ()\n",
    "  - median in addition to mean\n",
    "- Github\n",
    "  - clear all outputs\n",
    "  - setup to commit\n"
   ]
  },
  {
   "cell_type": "markdown",
   "metadata": {},
   "source": [
    "## Test File"
   ]
  },
  {
   "cell_type": "markdown",
   "metadata": {},
   "source": [
    "### Setup"
   ]
  },
  {
   "cell_type": "code",
   "execution_count": null,
   "metadata": {},
   "outputs": [],
   "source": [
    "# IMPORTS\n",
    "\n",
    "import os\n",
    "import librosa as lb\n",
    "import matplotlib.pyplot as plt\n",
    "import numpy as np\n",
    "from scipy.signal import medfilt\n",
    "from scipy.interpolate import interp1d\n",
    "import scipy.stats as stats\n"
   ]
  },
  {
   "cell_type": "code",
   "execution_count": null,
   "metadata": {},
   "outputs": [],
   "source": [
    "# LOAD FILE\n",
    "\n",
    "abhogi1 = 'carnatic_varnam_1.0/Audio/223578__gopalkoduri__carnatic-varnam-by-dharini-in-abhogi-raaga.mp3'  # Replace with your file path\n",
    "x, sr = lb.load(abhogi1)"
   ]
  },
  {
   "cell_type": "markdown",
   "metadata": {},
   "source": [
    "### Spectrogram + Pitch Contour Generation\n",
    "\n",
    "ISSUE: f0 and spectrogram overlay takes forever if mismatch in timesteps, gave them both the same hop_length parameter but play around with this"
   ]
  },
  {
   "cell_type": "code",
   "execution_count": null,
   "metadata": {},
   "outputs": [],
   "source": [
    "spec = lb.amplitude_to_db(np.abs(lb.stft(x, n_fft=2048, hop_length=512)), ref=np.max)\n",
    "f0 = lb.yin(x, fmin=lb.note_to_hz('C2'), fmax=lb.note_to_hz('C7'), hop_length=512)"
   ]
  },
  {
   "cell_type": "code",
   "execution_count": null,
   "metadata": {},
   "outputs": [],
   "source": [
    "# Plot spectrogram\n",
    "plt.figure(figsize=(12, 6))\n",
    "\n",
    "plt.subplot(2, 1, 1)\n",
    "lb.display.specshow(spec, sr=sr, x_axis='time', y_axis='log')\n",
    "plt.colorbar(format='%+2.0f dB')\n",
    "plt.title('Spectrogram')\n",
    "\n",
    "# Plot f0 contour\n",
    "plt.subplot(2, 1, 2)\n",
    "times = lb.times_like(f0, sr=sr)\n",
    "plt.plot(times, f0, label='f0 contour', color='r')\n",
    "plt.xlabel('Time (s)')\n",
    "plt.ylabel('Frequency (Hz)')\n",
    "plt.title('Fundamental Frequency (f0) Contour')\n",
    "plt.legend()\n",
    "\n",
    "plt.tight_layout()\n",
    "plt.show()"
   ]
  },
  {
   "cell_type": "markdown",
   "metadata": {},
   "source": [
    "ISSUE: slow in general, will start with just ~20 seconds (1000 samples w curr params) of each sample as the default\n"
   ]
  },
  {
   "cell_type": "code",
   "execution_count": null,
   "metadata": {},
   "outputs": [],
   "source": [
    "spec_clip = spec[:, :1000]\n",
    "f0_clip = f0[:1000]"
   ]
  },
  {
   "cell_type": "code",
   "execution_count": null,
   "metadata": {},
   "outputs": [],
   "source": [
    "# Plot spectrogram\n",
    "plt.figure(figsize=(12, 6))\n",
    "\n",
    "plt.subplot(2, 1, 1)\n",
    "lb.display.specshow(spec_clip, sr=sr, x_axis='time', y_axis='log')\n",
    "plt.colorbar(format='%+2.0f dB')\n",
    "plt.title('Spectrogram')\n",
    "\n",
    "# Plot f0 contour\n",
    "plt.subplot(2, 1, 2)\n",
    "times = lb.times_like(f0_clip, sr=sr)\n",
    "plt.plot(times, f0_clip, label='f0 contour', color='r')\n",
    "plt.xlabel('Time (s)')\n",
    "plt.ylabel('Frequency (Hz)')\n",
    "plt.title('Fundamental Frequency (f0) Contour')\n",
    "plt.legend()\n",
    "\n",
    "plt.tight_layout()\n",
    "plt.show()"
   ]
  },
  {
   "cell_type": "code",
   "execution_count": null,
   "metadata": {},
   "outputs": [],
   "source": [
    "times = lb.times_like(f0_clip, sr=sr, hop_length=512)\n",
    "\n",
    "# Plot spectrogram\n",
    "plt.figure(figsize=(12, 6))\n",
    "lb.display.specshow(spec_clip, sr=sr, hop_length=512, x_axis='time', y_axis='log')\n",
    "plt.colorbar(format='%+2.0f dB')\n",
    "\n",
    "# Overlay f0 contour\n",
    "plt.plot(times, f0_clip, label='f0 contour', color='r', linewidth=2)\n",
    "\n",
    "# Labels and title\n",
    "plt.xlabel('Time (s)')\n",
    "plt.ylabel('Frequency (Hz)')\n",
    "plt.title('Spectrogram with f0 Contour')\n",
    "plt.legend()\n",
    "\n",
    "plt.show()"
   ]
  },
  {
   "cell_type": "markdown",
   "metadata": {},
   "source": [
    "ISSUE: lots of noise (see overlay) -- how to remove?"
   ]
  },
  {
   "cell_type": "code",
   "execution_count": null,
   "metadata": {},
   "outputs": [],
   "source": [
    "# Apply median filtering to remove noise\n",
    "f0_filtered = medfilt(f0_clip, kernel_size=3)\n",
    "\n",
    "# Remove out-of-bounds values\n",
    "fmin_hz = 110 # ranges from cepstrum paper\n",
    "fmax_hz = 250\n",
    "f0_filtered = np.where((f0_filtered > fmin_hz) & (f0_filtered < fmax_hz), f0_filtered, np.nan)\n",
    "\n",
    "# Interpolate to fill missing values\n",
    "times = lb.times_like(f0_clip, sr=sr, hop_length=512)\n",
    "valid = ~np.isnan(f0_filtered)\n",
    "interp_func = interp1d(times[valid], f0_filtered[valid], kind='linear', fill_value=\"extrapolate\")\n",
    "f0_smooth = interp_func(times)\n",
    "\n",
    "# Plot spectrogram\n",
    "plt.figure(figsize=(12, 6))\n",
    "lb.display.specshow(spec_clip, sr=sr, hop_length=512, x_axis='time', y_axis='log')\n",
    "plt.colorbar(format='%+2.0f dB')\n",
    "\n",
    "# Overlay f0 contour\n",
    "plt.plot(times, f0_smooth, label='Cleaned f0 Contour', color='r', linewidth=2)\n",
    "\n",
    "# Labels and title\n",
    "plt.xlabel('Time (s)')\n",
    "plt.ylabel('Frequency (Hz)')\n",
    "plt.title('Spectrogram with Cleaned f0 Contour')\n",
    "plt.legend()\n",
    "\n",
    "plt.show()"
   ]
  },
  {
   "cell_type": "markdown",
   "metadata": {},
   "source": [
    "### Pitch Contour Features"
   ]
  },
  {
   "cell_type": "markdown",
   "metadata": {},
   "source": [
    "1. Pitch Contour Derivative\n",
    "2. \"Saddle\" Points / Local Optima (Derivative = 0)\n",
    "* derivative contour has many spikes / jumps  -- tried smoothing with a convolution (similar to median filtering and smoothing of f0)\n",
    "* zero crossings are still not marked at the exact locations because they are often between samples -- tried linear interpolation for markers and timestamps\n",
    "3. Onsets (for Note Boundaries)\n"
   ]
  },
  {
   "cell_type": "code",
   "execution_count": null,
   "metadata": {},
   "outputs": [],
   "source": [
    "def smooth_signal(signal, kernel_size=5):\n",
    "    \"\"\"Apply a moving average filter to smooth the signal.\"\"\"\n",
    "    kernel = np.ones(kernel_size) / kernel_size\n",
    "    return np.convolve(signal, kernel, mode='same')\n",
    "\n",
    "# Compute derivative of f0\n",
    "f0_derivative = np.gradient(f0_smooth, times)# Smooth the derivative to remove noise\n",
    "f0_derivative_smooth = smooth_signal(f0_derivative, kernel_size=7)\n",
    "\n",
    "\n",
    "# Find sign changes\n",
    "sign_changes = np.diff(np.sign(f0_derivative_smooth))\n",
    "\n",
    "# Find indices where sign change is significant\n",
    "zero_crossings = np.where(np.abs(sign_changes) == 2)[0]  # Only strong sign flips\n",
    "\n",
    "# OPTIONAL: Further filter to ignore rapid oscillations (set minimum spacing)\n",
    "min_spacing = 5  # Adjust as needed based on hop_length and sampling rate\n",
    "zero_crossings = zero_crossings[np.diff(np.concatenate(([0], zero_crossings))) > min_spacing]\n",
    "\n",
    "# Plot spectrogram\n",
    "plt.figure(figsize=(12, 8))\n",
    "\n",
    "# Plot spectrogram with f0 contour\n",
    "plt.subplot(2, 1, 1)\n",
    "lb.display.specshow(spec_clip, sr=sr, hop_length=512, x_axis='time', y_axis='log')\n",
    "plt.colorbar(format='%+2.0f dB')\n",
    "plt.plot(times, f0_smooth, label='Cleaned f0 Contour', color='r', linewidth=2)\n",
    "plt.scatter(times[zero_crossings], f0_smooth[zero_crossings], color='b', marker='o', label='Zero Derivative Points')\n",
    "plt.xlabel('Time (s)')\n",
    "plt.ylabel('Frequency (Hz)')\n",
    "plt.title('Spectrogram with Cleaned f0 Contour')\n",
    "plt.legend()\n",
    "\n",
    "# Plot derivative of f0\n",
    "plt.subplot(2, 1, 2)\n",
    "plt.plot(times, f0_derivative, color='gray', alpha=0.5, label='Raw f0 Derivative')\n",
    "plt.plot(times, f0_derivative_smooth, color='g', label='Smoothed f0 Derivative')\n",
    "plt.axhline(0, color='k', linestyle='--', linewidth=1)  # Reference line at 0\n",
    "plt.scatter(times[zero_crossings], f0_derivative_smooth[zero_crossings], color='b', marker='o', label='Zero Derivative Points')\n",
    "plt.xlabel('Time (s)')\n",
    "plt.ylabel('Frequency Change (Hz/s)')\n",
    "plt.title('Derivative of f0 Contour')\n",
    "plt.legend()\n",
    "\n",
    "plt.tight_layout()\n",
    "plt.show()\n"
   ]
  },
  {
   "cell_type": "markdown",
   "metadata": {},
   "source": [
    "4. Pitch Histogram\n",
    "* in terms of midi and not frequency to be scaled for perceived pitch (can also display on a log scale)\n",
    "5. Pitch PDF\n",
    "* uses kernel density estimation (built-in) with a Gaussian kernel"
   ]
  },
  {
   "cell_type": "code",
   "execution_count": null,
   "metadata": {},
   "outputs": [],
   "source": [
    "f0_clean = np.interp(times, times[valid], f0_filtered[valid])\n",
    "\n",
    "# Convert f0 to MIDI note numbers\n",
    "pitch_midi = lb.hz_to_midi(f0_clean)\n",
    "\n",
    "# Plot pitch histogram\n",
    "plt.figure(figsize=(12, 6))\n",
    "\n",
    "plt.subplot(1, 2, 1)\n",
    "plt.hist(pitch_midi, bins=60, density=True, alpha=0.7, color='b', edgecolor='black')\n",
    "plt.xlabel('MIDI Note')\n",
    "plt.ylabel('Probability Density')\n",
    "plt.title('Pitch Histogram')\n",
    "\n",
    "# Compute Kernel Density Estimation (KDE)\n",
    "kde = stats.gaussian_kde(pitch_midi)\n",
    "pitch_range = np.linspace(min(pitch_midi), max(pitch_midi), 500)\n",
    "kde_values = kde(pitch_range)\n",
    "\n",
    "# Plot KDE-based PDF\n",
    "plt.subplot(1, 2, 2)\n",
    "plt.plot(pitch_range, kde_values, color='r', linewidth=2)\n",
    "plt.xlabel('MIDI Note')\n",
    "plt.ylabel('Density')\n",
    "plt.title('Pitch Density (KDE)')\n",
    "\n",
    "plt.tight_layout()\n",
    "plt.show()\n"
   ]
  },
  {
   "cell_type": "code",
   "execution_count": null,
   "metadata": {},
   "outputs": [],
   "source": []
  }
 ],
 "metadata": {
  "kernelspec": {
   "display_name": "Python 3",
   "language": "python",
   "name": "python3"
  },
  "language_info": {
   "codemirror_mode": {
    "name": "ipython",
    "version": 3
   },
   "file_extension": ".py",
   "mimetype": "text/x-python",
   "name": "python",
   "nbconvert_exporter": "python",
   "pygments_lexer": "ipython3",
   "version": "3.11.11"
  }
 },
 "nbformat": 4,
 "nbformat_minor": 2
}
